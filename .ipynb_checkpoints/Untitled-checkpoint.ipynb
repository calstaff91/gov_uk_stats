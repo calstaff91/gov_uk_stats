{
 "cells": [
  {
   "cell_type": "code",
   "execution_count": 2,
   "metadata": {
    "collapsed": true
   },
   "outputs": [],
   "source": [
    "import pandas as pd #A module to create dataframes\n",
    "import requests #A module to send requests to websites\n",
    "from lxml import html #A module to process website coding languages"
   ]
  },
  {
   "cell_type": "code",
   "execution_count": 5,
   "metadata": {},
   "outputs": [
    {
     "data": {
      "text/plain": [
       "['21 September 2017',\n",
       " '18 September 2017',\n",
       " '14 September 2017',\n",
       " '14 September 2017',\n",
       " '14 September 2017',\n",
       " '13 September 2017',\n",
       " ' 8 September 2017',\n",
       " ' 7 September 2017',\n",
       " '31 August 2017',\n",
       " '31 August 2017',\n",
       " '30 August 2017',\n",
       " '29 August 2017',\n",
       " '24 August 2017',\n",
       " '15 August 2017',\n",
       " '15 August 2017',\n",
       " '10 August 2017',\n",
       " ' 3 August 2017',\n",
       " '27 July 2017',\n",
       " '27 July 2017',\n",
       " '27 July 2017',\n",
       " '27 July 2017',\n",
       " '27 July 2017',\n",
       " '20 July 2017',\n",
       " '14 July 2017',\n",
       " '13 July 2017',\n",
       " '13 July 2017',\n",
       " '13 July 2017',\n",
       " '13 July 2017',\n",
       " '13 July 2017',\n",
       " '13 July 2017',\n",
       " ' 6 July 2017',\n",
       " ' 6 July 2017',\n",
       " ' 6 July 2017',\n",
       " ' 4 July 2017',\n",
       " '29 June 2017',\n",
       " '29 June 2017',\n",
       " '23 June 2017',\n",
       " '22 June 2017',\n",
       " '15 June 2017',\n",
       " '13 June 2017']"
      ]
     },
     "execution_count": 5,
     "metadata": {},
     "output_type": "execute_result"
    }
   ],
   "source": [
    "for url in [url_pagenate % i for i in range(1,37)]:\n",
    "page = requests.get(\"https://www.gov.uk/government/statistics?departments%5B%5D=department-for-education&from_date=01%2F01%2F2010&keywords=&page=1&publication_filter_option=statistics&to_date=&topics%5B%5D=all\")\n",
    "tree = html.fromstring(page.content)\n",
    "date = tree.xpath('//li/time/text()')\n",
    "date"
   ]
  }
 ],
 "metadata": {
  "anaconda-cloud": {},
  "kernelspec": {
   "display_name": "Python [Root]",
   "language": "python",
   "name": "Python [Root]"
  },
  "language_info": {
   "codemirror_mode": {
    "name": "ipython",
    "version": 2
   },
   "file_extension": ".py",
   "mimetype": "text/x-python",
   "name": "python",
   "nbconvert_exporter": "python",
   "pygments_lexer": "ipython2",
   "version": "2.7.11"
  }
 },
 "nbformat": 4,
 "nbformat_minor": 2
}
