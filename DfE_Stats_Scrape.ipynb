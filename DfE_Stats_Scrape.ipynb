{
 "cells": [
  {
   "cell_type": "code",
   "execution_count": 2,
   "metadata": {
    "collapsed": true
   },
   "outputs": [],
   "source": [
    "import pandas as pd #A module to create dataframes\n",
    "import requests #A module to send requests to websites\n",
    "from lxml import html #A module to process website coding languages"
   ]
  },
  {
   "cell_type": "code",
   "execution_count": 30,
   "metadata": {},
   "outputs": [],
   "source": [
    "date = []\n",
    "for i in range(1,13):\n",
    "    url = \"https://www.gov.uk/government/statistics?departments%5B%5D=department-for-education&from_date=01%2F01%2F2010&keywords=&page=\" + str(i) + \"&publication_filter_option=statistics&to_date=&topics%5B%5D=all\" \n",
    "    page = requests.get(url)\n",
    "    tree = html.fromstring(page.content)\n",
    "    date_page = tree.xpath('//li/time/text()')\n",
    "    date = date + date_page \n",
    "date\n",
    "date = {\"date\":date}\n",
    "pd.DataFrame(date).to_csv(\"published_date.csv\")\n"
   ]
  },
  {
   "cell_type": "code",
   "execution_count": 35,
   "metadata": {},
   "outputs": [],
   "source": [
    "date = pd.DataFrame(date)\n",
    "date['date'] = date['date'].apply(lambda x: x.lstrip())\n",
    "date.to_csv(\"published_date.csv\")"
   ]
  }
 ],
 "metadata": {
  "anaconda-cloud": {},
  "kernelspec": {
   "display_name": "Python [Root]",
   "language": "python",
   "name": "Python [Root]"
  },
  "language_info": {
   "codemirror_mode": {
    "name": "ipython",
    "version": 2
   },
   "file_extension": ".py",
   "mimetype": "text/x-python",
   "name": "python",
   "nbconvert_exporter": "python",
   "pygments_lexer": "ipython2",
   "version": "2.7.11"
  }
 },
 "nbformat": 4,
 "nbformat_minor": 2
}
